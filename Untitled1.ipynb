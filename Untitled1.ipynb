{
 "cells": [
  {
   "cell_type": "code",
   "execution_count": 2,
   "id": "6107d33e-d5d2-419a-89aa-0bcb6c2a974c",
   "metadata": {},
   "outputs": [
    {
     "name": "stdout",
     "output_type": "stream",
     "text": [
      "✅ Connection successful\n"
     ]
    }
   ],
   "source": [
    "import pyodbc\n",
    " \n",
    "server = 'DESKTOP-JNFPIJ4\\\\SQLEXPRESS'\n",
    "database = 'master'  # Use a system DB like 'master' just to test connectivity\n",
    "driver = 'ODBC Driver 17 for SQL Server'\n",
    " \n",
    "connection_string = f\"DRIVER={{{driver}}};SERVER={server};DATABASE={database};Trusted_Connection=yes\"\n",
    " \n",
    "try:\n",
    "    conn = pyodbc.connect(connection_string, timeout=5)\n",
    "    print(\"✅ Connection successful\")\n",
    "    conn.close()\n",
    "except Exception as e:\n",
    "    print(\"❌ Connection failed:\")\n",
    "    print(e)"
   ]
  },
  {
   "cell_type": "code",
   "execution_count": 5,
   "id": "1286a37f-cee4-49a4-89b8-afd03676a9a8",
   "metadata": {},
   "outputs": [
    {
     "name": "stdout",
     "output_type": "stream",
     "text": [
      "✅ BeautifulSoup is installed.\n"
     ]
    }
   ],
   "source": [
    "import bs4\n",
    "\n",
    "from bs4 import BeautifulSoup\n",
    "print(\"✅ BeautifulSoup is installed.\")\n"
   ]
  },
  {
   "cell_type": "code",
   "execution_count": null,
   "id": "54e5e2a3-94e0-487d-8216-f30feac9acbb",
   "metadata": {},
   "outputs": [],
   "source": []
  }
 ],
 "metadata": {
  "kernelspec": {
   "display_name": "Python 3 (ipykernel)",
   "language": "python",
   "name": "python3"
  },
  "language_info": {
   "codemirror_mode": {
    "name": "ipython",
    "version": 3
   },
   "file_extension": ".py",
   "mimetype": "text/x-python",
   "name": "python",
   "nbconvert_exporter": "python",
   "pygments_lexer": "ipython3",
   "version": "3.11.7"
  }
 },
 "nbformat": 4,
 "nbformat_minor": 5
}
