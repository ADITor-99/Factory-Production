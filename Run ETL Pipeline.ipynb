{
 "cells": [
  {
   "cell_type": "code",
   "execution_count": null,
   "id": "63b43754",
   "metadata": {},
   "outputs": [],
   "source": [
    "import nbformat\n",
    "from nbconvert.preprocessors import ExecutePreprocessor\n",
    "from nbconvert.preprocessors.execute import CellExecutionError\n",
    "import time\n",
    "import logging\n",
    "import os\n",
    "import asyncio\n",
    "from queue import Queue\n",
    "from threading import Thread\n",
    "import glob\n",
    "# Set up logging\n",
    "logging.basicConfig(level=logging.INFO, format='%(asctime)s - %(levelname)s - %(message)s')"
   ]
  },
  {
   "cell_type": "code",
   "execution_count": null,
   "id": "a0fbdc04",
   "metadata": {},
   "outputs": [],
   "source": [
    "# Cell 2: Notebook Execution Function\n",
    "def run_notebook(notebook_path, timeout=3600):  # Default timeout set to 1 hour\n",
    "    with open(notebook_path) as f:\n",
    "        nb = nbformat.read(f, as_version=4)\n",
    "    \n",
    "    ep = ExecutePreprocessor(timeout=timeout, kernel_name='python3')\n",
    "    \n",
    "    try:\n",
    "        start_time = time.time()\n",
    "        ep.preprocess(nb, {'metadata': {'path': os.path.dirname(notebook_path)}})\n",
    "        end_time = time.time()\n",
    "        logging.info(f\"Notebook {notebook_path} executed successfully in {end_time - start_time:.2f} seconds\")\n",
    "    except CellExecutionError as e:\n",
    "        logging.error(f\"Error executing the notebook {notebook_path}\")\n",
    "        logging.error(str(e))\n",
    "        return False\n",
    "    \n",
    "    return True"
   ]
  },
  {
   "cell_type": "code",
   "execution_count": null,
   "id": "d24b59d9",
   "metadata": {},
   "outputs": [],
   "source": [
    "# Cell 3: Notebook List Management Functions\n",
    "def get_notebook_list():\n",
    "    return sorted(glob.glob(\"*.ipynb\"))\n",
    "\n",
    "def display_and_edit_notebooks(notebooks):\n",
    "    while True:\n",
    "        print(\"\\nCurrent list of notebooks to run:\")\n",
    "        for i, notebook in enumerate(notebooks, 1):\n",
    "            print(f\"{i}. {notebook}\")\n",
    "        \n",
    "        action = input(\"\\nEnter the number of a notebook to remove, 'a' to add a notebook, or 'r' to run with the current list: \").lower()\n",
    "        \n",
    "        if action == 'r':\n",
    "            return notebooks\n",
    "        elif action == 'a':\n",
    "            new_notebook = input(\"Enter the filename of the notebook to add: \")\n",
    "            if new_notebook.endswith('.ipynb') and os.path.exists(new_notebook):\n",
    "                notebooks.append(new_notebook)\n",
    "                notebooks.sort()\n",
    "            else:\n",
    "                print(\"Invalid notebook filename. Please try again.\")\n",
    "        elif action.isdigit() and 1 <= int(action) <= len(notebooks):\n",
    "            removed = notebooks.pop(int(action) - 1)\n",
    "            print(f\"Removed {removed} from the list.\")\n",
    "        else:\n",
    "            print(\"Invalid input. Please try again.\")"
   ]
  },
  {
   "cell_type": "code",
   "execution_count": null,
   "id": "ec44a3fc",
   "metadata": {},
   "outputs": [],
   "source": [
    "# Cell 4: ETL Pipeline Runner\n",
    "def run_etl_pipeline(notebooks):\n",
    "    for notebook in notebooks:\n",
    "        logging.info(f\"Starting execution of {notebook}\")\n",
    "        success = run_notebook(notebook)\n",
    "        if not success:\n",
    "            user_input = input(f\"Error occurred in {notebook}. Enter 'c' to continue, 'r' to retry, or 'q' to quit: \")\n",
    "            if user_input.lower() == 'c':\n",
    "                continue\n",
    "            elif user_input.lower() == 'r':\n",
    "                success = run_notebook(notebook)\n",
    "                if not success:\n",
    "                    logging.error(f\"Retry failed for {notebook}. Stopping execution.\")\n",
    "                    break\n",
    "            else:\n",
    "                logging.info(\"Stopping execution as requested.\")\n",
    "                break\n",
    "    \n",
    "    logging.info(\"ETL pipeline execution completed.\")"
   ]
  },
  {
   "cell_type": "code",
   "execution_count": null,
   "id": "46b28cf8",
   "metadata": {},
   "outputs": [],
   "source": [
    "# Cell 5: Main Execution\n",
    "# Run this cell to start the ETL pipeline\n",
    "etl_notebooks = get_notebook_list()"
   ]
  },
  {
   "cell_type": "code",
   "execution_count": null,
   "id": "cfedf9c9",
   "metadata": {},
   "outputs": [],
   "source": [
    "final_notebooks = display_and_edit_notebooks(etl_notebooks)"
   ]
  },
  {
   "cell_type": "code",
   "execution_count": null,
   "id": "544b5321",
   "metadata": {},
   "outputs": [],
   "source": [
    "run_etl_pipeline(final_notebooks)"
   ]
  }
 ],
 "metadata": {
  "kernelspec": {
   "display_name": "Python 3 (ipykernel)",
   "language": "python",
   "name": "python3"
  },
  "language_info": {
   "codemirror_mode": {
    "name": "ipython",
    "version": 3
   },
   "file_extension": ".py",
   "mimetype": "text/x-python",
   "name": "python",
   "nbconvert_exporter": "python",
   "pygments_lexer": "ipython3",
   "version": "3.11.5"
  }
 },
 "nbformat": 4,
 "nbformat_minor": 5
}
