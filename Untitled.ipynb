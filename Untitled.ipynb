{
 "cells": [
  {
   "cell_type": "code",
   "execution_count": 1,
   "id": "b30cd913",
   "metadata": {},
   "outputs": [
    {
     "name": "stdout",
     "output_type": "stream",
     "text": [
      "['03-05-2024 Primary Freight.xlsx', '03-05-2024 RM-M1OS.xlsx', '03-05-2024 RMSKU Master List.xlsx', '03-05-2024 Secondary Freight.xlsx', '03-05-2024_Prod_Automation.xlsx', '09-05-2024 Full Data_v0.9.xlsx', '09-05-2024 QC of Input Data.xlsx', '09-05-24_FG MaxCS Output.xlsx', '09052024_AmericanaFoods_BacktestingData_v0.9.bak', '22-04-2024 labour Data.xlsx', '28-04-2024_Demand_Automation.xlsx', '29-04-2024 WH-FG storage.xlsx', '29-04-24_FG M10S Output.xlsx', '29-04-24_Trimming_Output.csv', '29_04_2024_FG-SKU.xlsx', 'Actual_Production_w_Factory.xlsx', 'Average RM Cost.csv', 'Average_Destination_Freight.xlsx', 'Average_Freight.xlsx', 'BOM Filtered.csv', 'BOM Top 80 Output.xlsx', 'BOM1.xlsx', 'BOM2.xlsx', 'BOM2_Analysis_Report.xlsx', 'BOM_Analysis_Report.xlsx', 'BOM_filtered.csv', 'Capacity_DD_Filtered.xlsx', 'check.csv', 'check1.csv', 'client_data', 'Convert GFC Actual Prod.ipynb', 'df_final.csv', 'final_df_GFC.csv', 'final_df_KFC.csv', 'final_df_NF1.csv', 'final_df_NF2.csv', 'forecast_cost.xlsx', 'GFC_Actual_Prod.xlsx', 'GFC_Prod_Melted.xlsx', 'Imputed_primary_freight_data.xlsx', 'Input_BOM.csv', 'list_of_bom_raw_changes.txt', 'M4_22_04_2024_RM_Price_Update.ipynb', 'Missing_routing.xlsx', 'Output_GFC.csv', 'Output_KFC.csv', 'Output_NF1.csv', 'Output_NF2.csv', 'QC_failed.csv', 'Reason_for_missing_SKUs.xlsx', 'RM Budgeted cost.csv', 'RM Supply.xlsx', 'RMs_requiring_price_data.xlsx', 'RM_Cost_mapped_old+missing.csv', 'RM_Cost_mapped_old.csv', 'Run All Notebooks and show status.ipynb', 'Run ETL Pipeline.ipynb', 'Script01_Demand.ipynb', 'Script02_BOM_part1.ipynb', 'Script02_BOM_part2.ipynb', 'Script03_Capacity.ipynb', 'Script04_RMPrices.ipynb', 'Script04_RMPrices_AddMissing.ipynb', 'Script05_BOMTop80.ipynb', 'Script06_AddMissingRouting.ipynb', 'Script06_ProductionAutomation.ipynb', 'Script07_PrimarySecondaryFreight.ipynb', 'Script08_FactoryLabourPrep.ipynb', 'Script09_SKUMasterPrep.ipynb', 'Script10_StorageCosts.ipynb', 'Script11_FGMaxCS_AvgPerDay.ipynb', 'Script11_FG_M1OS.ipynb', 'Script11_RM_M1OS.ipynb', 'Script12_Combine_All_Inputs_Final.ipynb', 'Script13_QC_Combined_Data.ipynb', 'Script14_UpdateDatabaseAfterQC.ipynb', 'Second Run After Making Consistent SKU List', 'Trimming Generation input.csv', 'trimming_in_1 or more factory.csv', 'Untitled.ipynb', 'Update Database', 'Update Model', '~$09-05-2024 QC of Input Data.xlsx']\n"
     ]
    }
   ],
   "source": [
    "import glob\n",
    "import os\n",
    "\n",
    "# Get the current working directory\n",
    "current_directory = os.getcwd()\n",
    "\n",
    "# Use glob to list all files in the current working directory\n",
    "file_list = glob.glob(os.path.join(current_directory, '*'))\n",
    "\n",
    "# Extract only the filenames\n",
    "file_list = [os.path.basename(f) for f in file_list]\n",
    "\n",
    "# Print the list of filenames\n",
    "print(file_list)\n"
   ]
  },
  {
   "cell_type": "code",
   "execution_count": 2,
   "id": "63eedf28",
   "metadata": {},
   "outputs": [
    {
     "data": {
      "text/plain": [
       "['03-05-2024 Primary Freight.xlsx',\n",
       " '03-05-2024 RM-M1OS.xlsx',\n",
       " '03-05-2024 RMSKU Master List.xlsx',\n",
       " '03-05-2024 Secondary Freight.xlsx',\n",
       " '03-05-2024_Prod_Automation.xlsx',\n",
       " '09-05-2024 Full Data_v0.9.xlsx',\n",
       " '09-05-2024 QC of Input Data.xlsx',\n",
       " '09-05-24_FG MaxCS Output.xlsx',\n",
       " '09052024_AmericanaFoods_BacktestingData_v0.9.bak',\n",
       " '22-04-2024 labour Data.xlsx',\n",
       " '28-04-2024_Demand_Automation.xlsx',\n",
       " '29-04-2024 WH-FG storage.xlsx',\n",
       " '29-04-24_FG M10S Output.xlsx',\n",
       " '29-04-24_Trimming_Output.csv',\n",
       " '29_04_2024_FG-SKU.xlsx',\n",
       " 'Actual_Production_w_Factory.xlsx',\n",
       " 'Average RM Cost.csv',\n",
       " 'Average_Destination_Freight.xlsx',\n",
       " 'Average_Freight.xlsx',\n",
       " 'BOM Filtered.csv',\n",
       " 'BOM Top 80 Output.xlsx',\n",
       " 'BOM1.xlsx',\n",
       " 'BOM2.xlsx',\n",
       " 'BOM2_Analysis_Report.xlsx',\n",
       " 'BOM_Analysis_Report.xlsx',\n",
       " 'BOM_filtered.csv',\n",
       " 'Capacity_DD_Filtered.xlsx',\n",
       " 'check.csv',\n",
       " 'check1.csv',\n",
       " 'client_data',\n",
       " 'Convert GFC Actual Prod.ipynb',\n",
       " 'df_final.csv',\n",
       " 'final_df_GFC.csv',\n",
       " 'final_df_KFC.csv',\n",
       " 'final_df_NF1.csv',\n",
       " 'final_df_NF2.csv',\n",
       " 'forecast_cost.xlsx',\n",
       " 'GFC_Actual_Prod.xlsx',\n",
       " 'GFC_Prod_Melted.xlsx',\n",
       " 'Imputed_primary_freight_data.xlsx',\n",
       " 'Input_BOM.csv',\n",
       " 'list_of_bom_raw_changes.txt',\n",
       " 'M4_22_04_2024_RM_Price_Update.ipynb',\n",
       " 'Missing_routing.xlsx',\n",
       " 'Output_GFC.csv',\n",
       " 'Output_KFC.csv',\n",
       " 'Output_NF1.csv',\n",
       " 'Output_NF2.csv',\n",
       " 'QC_failed.csv',\n",
       " 'Reason_for_missing_SKUs.xlsx',\n",
       " 'RM Budgeted cost.csv',\n",
       " 'RM Supply.xlsx',\n",
       " 'RMs_requiring_price_data.xlsx',\n",
       " 'RM_Cost_mapped_old+missing.csv',\n",
       " 'RM_Cost_mapped_old.csv',\n",
       " 'Run All Notebooks and show status.ipynb',\n",
       " 'Run ETL Pipeline.ipynb',\n",
       " 'Script01_Demand.ipynb',\n",
       " 'Script02_BOM_part1.ipynb',\n",
       " 'Script02_BOM_part2.ipynb',\n",
       " 'Script03_Capacity.ipynb',\n",
       " 'Script04_RMPrices.ipynb',\n",
       " 'Script04_RMPrices_AddMissing.ipynb',\n",
       " 'Script05_BOMTop80.ipynb',\n",
       " 'Script06_AddMissingRouting.ipynb',\n",
       " 'Script06_ProductionAutomation.ipynb',\n",
       " 'Script07_PrimarySecondaryFreight.ipynb',\n",
       " 'Script08_FactoryLabourPrep.ipynb',\n",
       " 'Script09_SKUMasterPrep.ipynb',\n",
       " 'Script10_StorageCosts.ipynb',\n",
       " 'Script11_FGMaxCS_AvgPerDay.ipynb',\n",
       " 'Script11_FG_M1OS.ipynb',\n",
       " 'Script11_RM_M1OS.ipynb',\n",
       " 'Script12_Combine_All_Inputs_Final.ipynb',\n",
       " 'Script13_QC_Combined_Data.ipynb',\n",
       " 'Script14_UpdateDatabaseAfterQC.ipynb',\n",
       " 'Second Run After Making Consistent SKU List',\n",
       " 'Trimming Generation input.csv',\n",
       " 'trimming_in_1 or more factory.csv',\n",
       " 'Untitled.ipynb',\n",
       " 'Update Database',\n",
       " 'Update Model',\n",
       " '~$09-05-2024 QC of Input Data.xlsx']"
      ]
     },
     "execution_count": 2,
     "metadata": {},
     "output_type": "execute_result"
    }
   ],
   "source": [
    "file_list"
   ]
  },
  {
   "cell_type": "code",
   "execution_count": null,
   "id": "12bfdba6",
   "metadata": {},
   "outputs": [],
   "source": []
  }
 ],
 "metadata": {
  "kernelspec": {
   "display_name": "Python 3 (ipykernel)",
   "language": "python",
   "name": "python3"
  },
  "language_info": {
   "codemirror_mode": {
    "name": "ipython",
    "version": 3
   },
   "file_extension": ".py",
   "mimetype": "text/x-python",
   "name": "python",
   "nbconvert_exporter": "python",
   "pygments_lexer": "ipython3",
   "version": "3.11.5"
  }
 },
 "nbformat": 4,
 "nbformat_minor": 5
}
